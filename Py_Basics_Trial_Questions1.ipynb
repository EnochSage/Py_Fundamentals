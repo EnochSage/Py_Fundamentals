{
 "cells": [
  {
   "cell_type": "markdown",
   "metadata": {},
   "source": [
    "#  Write a program that extracts the last three <br>items in the list sports<br> and assigns it to the variable last."
   ]
  },
  {
   "cell_type": "markdown",
   "metadata": {},
   "source": [
    "Make sure to write your code so that it works no matter how many items are in the list."
   ]
  },
  {
   "cell_type": "code",
   "execution_count": 1,
   "metadata": {},
   "outputs": [
    {
     "name": "stdout",
     "output_type": "stream",
     "text": [
      "['hock', 'ping', 'curl']\n",
      "['curl', 'ping', 'hock']\n"
     ]
    }
   ],
   "source": [
    "sports = ['cr','ftbll','vllebll','bsbll','sftball','track and field','curl','ping','hock']\n",
    "last = (sports[-1:-4:-1])\n",
    "print(last)\n",
    "\n",
    "last = (sports[6:])\n",
    "print(last)"
   ]
  },
  {
   "cell_type": "code",
   "execution_count": 2,
   "metadata": {},
   "outputs": [
    {
     "name": "stdout",
     "output_type": "stream",
     "text": [
      "['curl', 'ping', 'hock']\n"
     ]
    }
   ],
   "source": [
    "sports = ['cr','ftbll','vllebll','bsbll','sftball','track and field','curl','ping','hock']\n",
    "last = (sports[6:])\n",
    "print(last)"
   ]
  },
  {
   "cell_type": "code",
   "execution_count": 3,
   "metadata": {},
   "outputs": [
    {
     "name": "stdout",
     "output_type": "stream",
     "text": [
      "['track and field', 'curl', 'ping', 'hock']\n"
     ]
    }
   ],
   "source": [
    "sports = ['cr','ftbll','vllebll','bsbll','silver','sftball','track and field','curl','ping','hock']\n",
    "last = (sports[6:])\n",
    "print(last)"
   ]
  },
  {
   "cell_type": "code",
   "execution_count": 4,
   "metadata": {},
   "outputs": [
    {
     "name": "stdout",
     "output_type": "stream",
     "text": [
      "['cr', 'ftbll', 'vllebll', 'bsbll', 'sftball', 'track and field']\n"
     ]
    }
   ],
   "source": [
    "sports = ['cr','ftbll','vllebll','bsbll','sftball','track and field','curl','ping','hock']\n",
    "last = (sports[:6])\n",
    "print(last)"
   ]
  },
  {
   "cell_type": "markdown",
   "metadata": {},
   "source": [
    "**ALternative**"
   ]
  },
  {
   "cell_type": "code",
   "execution_count": 5,
   "metadata": {},
   "outputs": [
    {
     "name": "stdout",
     "output_type": "stream",
     "text": [
      "['curl', 'ping', 'hock']\n"
     ]
    }
   ],
   "source": [
    "#Solution for the Question\n",
    "sports = ['cr','ftbll','vllebll','bsbll','silver','sftball','track and field','curl','ping','hock']\n",
    "last = (sports[-3:])\n",
    "print(last)"
   ]
  },
  {
   "cell_type": "code",
   "execution_count": 6,
   "metadata": {},
   "outputs": [
    {
     "name": "stdout",
     "output_type": "stream",
     "text": [
      "11\n",
      "['curl', 'ping', 'hock']\n"
     ]
    }
   ],
   "source": [
    "#Solution for the Question\n",
    "sports = ['cr','ftbll','vllebll','bsbll',\"diamond\",'silver','sftball','track and field','curl','ping','hock']\n",
    "last = (sports[-3:])\n",
    "\n",
    "print(len(sports))\n",
    "\n",
    "last = (sports[8:])\n",
    "print(last)"
   ]
  },
  {
   "cell_type": "code",
   "execution_count": 7,
   "metadata": {
    "run_control": {
     "marked": true
    }
   },
   "outputs": [
    {
     "name": "stdout",
     "output_type": "stream",
     "text": [
      "12\n",
      "['curl', 'ping', 'hock']\n"
     ]
    }
   ],
   "source": [
    "# This is the Answer to the Question\n",
    "# It can be observed that even if we increase the number of items, the result remains the same\n",
    "\n",
    "sports = ['cr','ftbll','vllebll','bsbll','hope','diamond','silver','sftball','track and field','curl','ping','hock']\n",
    "last = (sports[-3:])\n",
    "print(len(sports))\n",
    "print(last)"
   ]
  },
  {
   "cell_type": "code",
   "execution_count": 8,
   "metadata": {},
   "outputs": [
    {
     "name": "stdout",
     "output_type": "stream",
     "text": [
      "['curl', 'ping', 'hock']\n"
     ]
    }
   ],
   "source": [
    "sports = ['cr','ftbll','vllebll','bsbll','hope','diamond','silver','sftball','track and field','curl','ping','hock']\n",
    "last = sports[-3:]\n",
    "print  (last)"
   ]
  },
  {
   "cell_type": "code",
   "execution_count": 9,
   "metadata": {},
   "outputs": [
    {
     "name": "stdout",
     "output_type": "stream",
     "text": [
      "Original list: \n",
      " ['cr', 'ftbll', 'vllebll', 'bsbll', 'hope', 'diamond', 'silver', 'sftball', 'track and field', 'curl', 'ping', 'hock']\n",
      "New list:\n",
      " ['curl', 'ping', 'hock']\n"
     ]
    }
   ],
   "source": [
    "sports = ['cr','ftbll','vllebll','bsbll','hope','diamond','silver','sftball',\n",
    "          'track and field','curl','ping','hock']\n",
    "\n",
    "def last (sports):\n",
    "    del sports[0:9] #deleting from the 1st item to the 7th item\n",
    "print(f\"Original list: \"'\\n', sports)\n",
    "last(sports)\n",
    "print(f\"New list:\"'\\n', sports)"
   ]
  },
  {
   "cell_type": "code",
   "execution_count": 10,
   "metadata": {},
   "outputs": [
    {
     "name": "stdout",
     "output_type": "stream",
     "text": [
      "Number of items in sports:\n",
      "9\n",
      "\n",
      "\n",
      "List before calling the function:'\n",
      "' ['cricket', 'football', 'volleyball', 'basketball', 'softball', 'track and field', 'curl', 'ping', 'hockey']\n",
      "\n",
      "\n",
      "['curl', 'ping', 'hockey']\n"
     ]
    }
   ],
   "source": [
    "sports = ['cricket','football','volleyball',\n",
    "          'basketball','softball',\n",
    "          'track and field','curl','ping','hockey']\n",
    "          \n",
    "print('Number of items in sports:')\n",
    "print(len(sports)), print('\\n')\n",
    "\n",
    "\n",
    "def mysport(sports):\n",
    "    last= sports[6:]\n",
    "    return print(last)\n",
    "\n",
    "print(\"List before calling the function:'\\n'\", sports), print('\\n')\n",
    "\n",
    "mysport(sports)\n",
    "\n"
   ]
  },
  {
   "cell_type": "code",
   "execution_count": 11,
   "metadata": {},
   "outputs": [
    {
     "name": "stdout",
     "output_type": "stream",
     "text": [
      "Number of items in sports:\n",
      "15\n",
      "\n",
      "\n",
      "List before calling the function:'\n",
      "' ['cricket', 'beachball', 'sandball', 'football', 'volleyball', 'snowball', 'basketball', 'hope', 'diamond', 'silver', 'softball', 'track and field', 'curl', 'ping', 'hockey']\n",
      "\n",
      "\n",
      "['basketball', 'hope', 'diamond', 'silver', 'softball', 'track and field', 'curl', 'ping', 'hockey']\n"
     ]
    }
   ],
   "source": [
    "sports = ['cricket','beachball', 'sandball','football','volleyball','snowball',\n",
    "          'basketball','hope','diamond','silver','softball',\n",
    "          'track and field','curl','ping','hockey']\n",
    "\n",
    "print('Number of items in sports:')\n",
    "print(len(sports)), print('\\n')\n",
    "\n",
    "\n",
    "def mysport(sports):\n",
    "    last= sports[6:]\n",
    "    return print(last)\n",
    "\n",
    "print(\"List before calling the function:'\\n'\", sports), print('\\n')\n",
    "\n",
    "mysport(sports)\n"
   ]
  },
  {
   "cell_type": "code",
   "execution_count": 12,
   "metadata": {
    "run_control": {
     "marked": true
    }
   },
   "outputs": [
    {
     "name": "stdout",
     "output_type": "stream",
     "text": [
      "Number of items in sports:\n",
      "15\n",
      "\n",
      "\n",
      "List before calling the function:'\n",
      "' ['cricket', 'beachball', 'sandball', 'football', 'volleyball', 'snowball', 'basketball', 'hope', 'diamond', 'silver', 'softball', 'track and field', 'curl', 'ping', 'hockey']\n",
      "\n",
      "\n",
      "['curl', 'ping', 'hockey']\n"
     ]
    }
   ],
   "source": [
    "#Solution for the Question\n",
    "\n",
    "sports = ['cricket','beachball', 'sandball','football','volleyball','snowball',\n",
    "          'basketball','hope','diamond','silver','softball',\n",
    "          'track and field','curl','ping','hockey']\n",
    "\n",
    "print('Number of items in sports:')\n",
    "print(len(sports)), print('\\n')\n",
    "\n",
    "\n",
    "def mysport(sports):\n",
    "    last= sports[-3:]\n",
    "    return print(last)\n",
    "\n",
    "print(\"List before calling the function:'\\n'\", sports), print('\\n')\n",
    "\n",
    "mysport(sports)\n"
   ]
  },
  {
   "cell_type": "markdown",
   "metadata": {},
   "source": [
    " # Write code that combines the following variables <br>so that the sentence \"You are doing a great job, keep it up!\"<br> is assigned to the vairable message."
   ]
  },
  {
   "cell_type": "raw",
   "metadata": {},
   "source": [
    "NB>Do not edit the values assigned to by, az, io, or qy."
   ]
  },
  {
   "cell_type": "code",
   "execution_count": 13,
   "metadata": {},
   "outputs": [
    {
     "name": "stdout",
     "output_type": "stream",
     "text": [
      "\"You are doing a great job, keep it up!\"\n"
     ]
    }
   ],
   "source": [
    "by = \"You are\"\n",
    "az = \"doing a great\"\n",
    "io = \"job\"\n",
    "qy = \"keep it up!\"\n",
    "\n",
    "message = by+ \" \"+az + \" \"+io + \", \"+ qy \n",
    "print('\"'+message+'\"')"
   ]
  },
  {
   "cell_type": "markdown",
   "metadata": {},
   "source": [
    "# What will be the output of the following code?\n"
   ]
  },
  {
   "cell_type": "markdown",
   "metadata": {},
   "source": [
    "Python is a zero-index based language and slices are inclusive of the <br>first index and exclusive of the second."
   ]
  },
  {
   "cell_type": "code",
   "execution_count": 14,
   "metadata": {},
   "outputs": [
    {
     "name": "stdout",
     "output_type": "stream",
     "text": [
      "['run', 'world', 'travel', 'lights', 'moon', 'baseball', 'sea']\n",
      "['travel', 'lights']\n"
     ]
    }
   ],
   "source": [
    "ls = ['run', 'world', 'travel', 'lights', 'moon', 'baseball', 'sea']\n",
    "new = ls[2:4]\n",
    "print(ls)\n",
    "print(new)"
   ]
  },
  {
   "cell_type": "markdown",
   "metadata": {},
   "source": [
    "# What is the type of 'm'?"
   ]
  },
  {
   "cell_type": "code",
   "execution_count": 15,
   "metadata": {
    "run_control": {
     "marked": true
    }
   },
   "outputs": [
    {
     "name": "stdout",
     "output_type": "stream",
     "text": [
      "['7']\n",
      "<class 'list'>\n"
     ]
    }
   ],
   "source": [
    "l= ['w', '7', 0, 9]\n",
    "m= l[1:2]\n",
    "print(m)\n",
    "print(type(m))\n",
    "\n",
    "# A slice returns a list no matter how large the slice"
   ]
  },
  {
   "cell_type": "markdown",
   "metadata": {},
   "source": [
    "# What is the type of x?\n"
   ]
  },
  {
   "cell_type": "markdown",
   "metadata": {},
   "source": [
    "NB: The resultant output of a string is a list."
   ]
  },
  {
   "cell_type": "code",
   "execution_count": 16,
   "metadata": {},
   "outputs": [
    {
     "name": "stdout",
     "output_type": "stream",
     "text": [
      "['My', ' what a lovely day']\n",
      "<class 'list'>\n"
     ]
    }
   ],
   "source": [
    "b = \"My, what a lovely day\"\n",
    "x = b.split(',')\n",
    "print(x)\n",
    "print(type(x))"
   ]
  },
  {
   "cell_type": "markdown",
   "metadata": {},
   "source": [
    "# What is the type of a?"
   ]
  },
  {
   "cell_type": "code",
   "execution_count": 17,
   "metadata": {},
   "outputs": [
    {
     "name": "stdout",
     "output_type": "stream",
     "text": [
      "['My', ' what a lovely day']\n",
      "My what a lovely day\n",
      "['My what a lovely day']\n",
      "My what a lovely day\n",
      "<class 'str'>\n"
     ]
    }
   ],
   "source": [
    "b = \"My, what a lovely day\"\n",
    "x = b.split(',')\n",
    "z = \"\".join(x)\n",
    "y = z.split(\";\")\n",
    "a = \"\".join(y)\n",
    "\n",
    "print(x)\n",
    "print(z)\n",
    "print(y)\n",
    "print(a)\n",
    "print(type(a)) "
   ]
  },
  {
   "cell_type": "markdown",
   "metadata": {},
   "source": [
    "# Write Code to determine how <br>many 9's are in the list 'nums' <br>and assign that value to the variable how_many."
   ]
  },
  {
   "cell_type": "markdown",
   "metadata": {},
   "source": [
    "Do not use a for loop to do this."
   ]
  },
  {
   "cell_type": "code",
   "execution_count": 18,
   "metadata": {},
   "outputs": [
    {
     "name": "stdout",
     "output_type": "stream",
     "text": [
      "3\n"
     ]
    }
   ],
   "source": [
    "nums = [4, 2, 23.4, 9, 545, 9, 1, 234.001, 5, 49, 8, 9, 34, 52, 1, -2, 9.1, 4]\n",
    "\n",
    "how_many= nums.count(9)\n",
    "print(how_many)"
   ]
  },
  {
   "cell_type": "markdown",
   "metadata": {},
   "source": [
    "# Write code that uses slicing to get rid <br>of the second 8 so that there are only <br>two 8's in the list bound to the variable nums."
   ]
  },
  {
   "cell_type": "code",
   "execution_count": 19,
   "metadata": {},
   "outputs": [
    {
     "name": "stdout",
     "output_type": "stream",
     "text": [
      "[4, 2, 8, 23.4]\n",
      "[9, 545, 9, 1, 234.001, 5, 49, 8, 9, 34, 52, 1, -2, 9.1, 4]\n",
      "[4, 2, 8, 23.4, 9, 545, 9, 1, 234.001, 5, 49, 8, 9, 34, 52, 1, -2, 9.1, 4]\n"
     ]
    }
   ],
   "source": [
    "nums = [4, 2, 8, 23.4, 8, 9, 545, 9, 1, 234.001, 5, 49, 8, 9, 34, 52,1, -2, 9.1, 4]\n",
    "\n",
    "x = (nums[:4])\n",
    "print(x)\n",
    "\n",
    "y = (nums[5:])\n",
    "print(y)\n",
    "\n",
    "z = x + y\n",
    "print(z)"
   ]
  },
  {
   "cell_type": "markdown",
   "metadata": {},
   "source": [
    "# Assign the last element of lst to the variable <br>end_elem. Do this so that it works no matter how long lst is."
   ]
  },
  {
   "cell_type": "code",
   "execution_count": 20,
   "metadata": {},
   "outputs": [
    {
     "name": "stdout",
     "output_type": "stream",
     "text": [
      "['26trombones']\n"
     ]
    }
   ],
   "source": [
    "lst = [\"hi\", \"hey\", \"goodbye\",\"python\", \"106\", \"506\", 91, \n",
    "       ['all', 'Paul', 'Jackie', \"UMSI\", 1, \"Stephen\", 4.5], \n",
    "       109, \"chair\", \"pizza\", \"wolverine\", 2017, 3.92, 1817, \n",
    "       \"account\", \"readings\", \"papers\", 12, \"facebook\", \"twitter\", 193.2, \n",
    "       \"snapchat\", \"leaders and the best\", \"social\", \"1986\", 9, 29, \"holiday\", \n",
    "       [\"women\", \"olympics\", \"gold\", \"rio\", 21, \"2016\", \"men\"],\n",
    "       \"home\", \"26trombones\"]\n",
    "end_elem = (lst[-1:])\n",
    "print(end_elem)"
   ]
  },
  {
   "cell_type": "code",
   "execution_count": 21,
   "metadata": {},
   "outputs": [
    {
     "name": "stdout",
     "output_type": "stream",
     "text": [
      "26trombones\n",
      "30\n"
     ]
    }
   ],
   "source": [
    "\n",
    "lst = [\"hi\", \"goodbye\",\"python\", \"106\", \"506\", 91, \n",
    "       ['all', 'Paul', 'Jackie', \"UMSI\", 1, \"Stephen\", 4.5], \n",
    "       109, \"chair\", \"pizza\", \"wolverine\", 2017, 3.92, 1817,\n",
    "       \"account\", \"readings\", \"papers\", 12, \"facebook\", \"twitter\", 193.2, \n",
    "       \"snapchat\", \"leaders and the best\", \"social\", \"1986\", 9, 29, \"holiday\", \n",
    "       [\"women\", \"olympics\", \"gold\", \"rio\", 21, \"2016\", \"men\"], \"26trombones\"]\n",
    "end_elem = lst[-1]\n",
    "print(end_elem) \n",
    "\n",
    "num_lst = (len(lst)) #Checking the number of items in the list\n",
    "print(num_lst)"
   ]
  },
  {
   "cell_type": "markdown",
   "metadata": {},
   "source": [
    "# Create a variable called wrds and assign<br> to it a list whose elements are the words in the string sent.<br> Do not worry about punctuation."
   ]
  },
  {
   "cell_type": "code",
   "execution_count": 22,
   "metadata": {},
   "outputs": [
    {
     "name": "stdout",
     "output_type": "stream",
     "text": [
      "['The', 'bicentennial', 'for', 'our', 'university', 'was', 'in', '2017']\n"
     ]
    }
   ],
   "source": [
    "sent = \"The bicentennial for our university was in 2017\"\n",
    "\n",
    "wrds = sent.split()\n",
    "print(wrds)"
   ]
  },
  {
   "cell_type": "code",
   "execution_count": 23,
   "metadata": {},
   "outputs": [],
   "source": [
    "phrases= [\"My, what a lovely day today is!\", \n",
    "         \"Have you mastered cooking yet? A tasty treat could be in your future.\",\n",
    "         \"Have you ever seen the leaves change color?\"]\n"
   ]
  }
 ],
 "metadata": {
  "kernelspec": {
   "display_name": "Python 3",
   "language": "python",
   "name": "python3"
  },
  "language_info": {
   "codemirror_mode": {
    "name": "ipython",
    "version": 3
   },
   "file_extension": ".py",
   "mimetype": "text/x-python",
   "name": "python",
   "nbconvert_exporter": "python",
   "pygments_lexer": "ipython3",
   "version": "3.8.5"
  },
  "toc": {
   "base_numbering": 1,
   "nav_menu": {},
   "number_sections": true,
   "sideBar": true,
   "skip_h1_title": false,
   "title_cell": "Table of Contents",
   "title_sidebar": "Contents",
   "toc_cell": false,
   "toc_position": {},
   "toc_section_display": true,
   "toc_window_display": false
  },
  "varInspector": {
   "cols": {
    "lenName": 16,
    "lenType": 16,
    "lenVar": 40
   },
   "kernels_config": {
    "python": {
     "delete_cmd_postfix": "",
     "delete_cmd_prefix": "del ",
     "library": "var_list.py",
     "varRefreshCmd": "print(var_dic_list())"
    },
    "r": {
     "delete_cmd_postfix": ") ",
     "delete_cmd_prefix": "rm(",
     "library": "var_list.r",
     "varRefreshCmd": "cat(var_dic_list()) "
    }
   },
   "types_to_exclude": [
    "module",
    "function",
    "builtin_function_or_method",
    "instance",
    "_Feature"
   ],
   "window_display": false
  }
 },
 "nbformat": 4,
 "nbformat_minor": 4
}
