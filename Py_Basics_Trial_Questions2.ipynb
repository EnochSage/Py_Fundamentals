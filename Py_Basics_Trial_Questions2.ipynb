{
 "cells": [
  {
   "cell_type": "markdown",
   "metadata": {},
   "source": [
    "# .Data Structures"
   ]
  },
  {
   "cell_type": "raw",
   "metadata": {},
   "source": [
    "Data structures are containers that hold a collection of related data. \n",
    "\n",
    "There are four kinds of data structures in python; \n",
    "\n",
    "1. List- is a collection which is ordered and changeable. \n",
    " Allows duplicate members.\n",
    " A list is defined by a square bracket []\n",
    "  \n",
    "2. Tuple-defined by a round bracket ( )\n",
    "  \n",
    "3. Dictionary- is a collection which is unordered, changeable and indexed. \n",
    " There are no duplicate members. \n",
    " Dictionaries are defined by a curly bracket { } \n",
    " with key-value pairs separated by : and a comma.\n",
    "        \n",
    "4. Set is a collection which is unordered and unindexed. No duplicate members."
   ]
  },
  {
   "cell_type": "markdown",
   "metadata": {},
   "source": [
    "**LIST**"
   ]
  },
  {
   "cell_type": "raw",
   "metadata": {},
   "source": [
    "A list is a data structure that contains values(items).\n",
    "Lists are mutable/ changeable.Lists are defined in \n",
    "square brackets []"
   ]
  },
  {
   "cell_type": "code",
   "execution_count": 1,
   "metadata": {},
   "outputs": [],
   "source": [
    "games = ['cricket','beachball', 'sandball','football','volleyball','snowball',\n",
    "          'basketball','hopping','diamond','silver','softball',\n",
    "          'track and field','curl','ping','hockey']"
   ]
  },
  {
   "cell_type": "code",
   "execution_count": 2,
   "metadata": {
    "run_control": {
     "marked": true
    }
   },
   "outputs": [
    {
     "data": {
      "text/plain": [
       "['cricket',\n",
       " 'beachball',\n",
       " 'sandball',\n",
       " 'football',\n",
       " 'volleyball',\n",
       " 'snowball',\n",
       " 'basketball',\n",
       " 'hopping',\n",
       " 'diamond',\n",
       " 'silver',\n",
       " 'softball',\n",
       " 'track and field',\n",
       " 'curl',\n",
       " 'ping',\n",
       " 'hockey']"
      ]
     },
     "execution_count": 2,
     "metadata": {},
     "output_type": "execute_result"
    }
   ],
   "source": [
    "# Calling the list\n",
    "games\n"
   ]
  },
  {
   "cell_type": "code",
   "execution_count": 3,
   "metadata": {
    "run_control": {
     "marked": true
    }
   },
   "outputs": [
    {
     "name": "stdout",
     "output_type": "stream",
     "text": [
      "['cricket', 'beachball', 'sandball', 'football', 'volleyball', 'snowball', 'basketball', 'hopping', 'diamond', 'silver', 'softball', 'track and field', 'curl', 'ping', 'hockey']\n",
      "\n",
      "\n",
      "Number of items in the list games:\n",
      "15\n"
     ]
    }
   ],
   "source": [
    "# Alternative way of Calling the list\n",
    "print(games)\n",
    "\n",
    "print('\\n')\n",
    "print('Number of items in the list games:')\n",
    "print(len(games))"
   ]
  },
  {
   "cell_type": "code",
   "execution_count": 4,
   "metadata": {},
   "outputs": [
    {
     "data": {
      "text/plain": [
       "'snowball'"
      ]
     },
     "execution_count": 4,
     "metadata": {},
     "output_type": "execute_result"
    }
   ],
   "source": [
    "# This helps get the value of a particular list using the \n",
    "#square bracket to index the position of the item\n",
    "\n",
    "games[5]\n"
   ]
  },
  {
   "cell_type": "code",
   "execution_count": 5,
   "metadata": {},
   "outputs": [
    {
     "name": "stdout",
     "output_type": "stream",
     "text": [
      "snowball\n"
     ]
    }
   ],
   "source": [
    "#Or use the print function\n",
    "print(games[5])"
   ]
  },
  {
   "cell_type": "code",
   "execution_count": 6,
   "metadata": {},
   "outputs": [
    {
     "name": "stdout",
     "output_type": "stream",
     "text": [
      "['cricket', 'beachball', 'sandball', 'football', 'volleyball', 'snowball']\n"
     ]
    }
   ],
   "source": [
    "print(games[0:6])"
   ]
  },
  {
   "cell_type": "code",
   "execution_count": 7,
   "metadata": {},
   "outputs": [
    {
     "name": "stdout",
     "output_type": "stream",
     "text": [
      "['basketball', 'hopping', 'diamond', 'silver', 'softball', 'track and field', 'curl', 'ping', 'hockey']\n",
      "Number of items in new_list:\n",
      "9\n"
     ]
    }
   ],
   "source": [
    "new_list= games[6:]\n",
    "\n",
    "print(new_list)\n",
    "print('Number of items in new_list:')\n",
    "print(len(new_list))"
   ]
  },
  {
   "cell_type": "code",
   "execution_count": 8,
   "metadata": {},
   "outputs": [
    {
     "name": "stdout",
     "output_type": "stream",
     "text": [
      "['basketball', 'hopping', 'diamond', 'silver', 'softball', 'track and field', 'curl', 'ping', 'hockey']\n",
      "\n",
      "\n",
      "Number of items in new_list:\n",
      "9\n"
     ]
    }
   ],
   "source": [
    "new_list= games[6:]\n",
    "\n",
    "print(new_list)\n",
    "print('\\n')             #This is used to seperate the printed items for clearer reading\n",
    "print('Number of items in new_list:')\n",
    "print(len(new_list))"
   ]
  },
  {
   "cell_type": "code",
   "execution_count": 9,
   "metadata": {},
   "outputs": [],
   "source": [
    "# Calling the list\n",
    "games = ['cricket','beachball', 'sandball','football','volleyball','snowball',\n",
    "          'basketball','hopping','diamond','silver','softball',\n",
    "          'track and field','curl','ping','hockey']"
   ]
  },
  {
   "cell_type": "code",
   "execution_count": 10,
   "metadata": {},
   "outputs": [
    {
     "ename": "ValueError",
     "evalue": "8 is not in list",
     "output_type": "error",
     "traceback": [
      "\u001b[1;31m---------------------------------------------------------------------------\u001b[0m",
      "\u001b[1;31mValueError\u001b[0m                                Traceback (most recent call last)",
      "\u001b[1;32m<ipython-input-10-2ec0b5df5b1b>\u001b[0m in \u001b[0;36m<module>\u001b[1;34m\u001b[0m\n\u001b[0;32m      1\u001b[0m \u001b[1;31m#Finding the index position of eight in the list\u001b[0m\u001b[1;33m\u001b[0m\u001b[1;33m\u001b[0m\u001b[1;33m\u001b[0m\u001b[0m\n\u001b[1;32m----> 2\u001b[1;33m \u001b[0mgames\u001b[0m\u001b[1;33m.\u001b[0m\u001b[0mindex\u001b[0m\u001b[1;33m(\u001b[0m\u001b[1;36m8\u001b[0m\u001b[1;33m)\u001b[0m\u001b[1;33m\u001b[0m\u001b[1;33m\u001b[0m\u001b[0m\n\u001b[0m",
      "\u001b[1;31mValueError\u001b[0m: 8 is not in list"
     ]
    }
   ],
   "source": [
    "#Finding the index position of eight in the list\n",
    "games.index(8)"
   ]
  },
  {
   "cell_type": "markdown",
   "metadata": {},
   "source": [
    "**Comment:** As you can see above, I obtained an error.<br> This is because the number 8 is not part of the list."
   ]
  },
  {
   "cell_type": "code",
   "execution_count": 11,
   "metadata": {},
   "outputs": [
    {
     "data": {
      "text/plain": [
       "5"
      ]
     },
     "execution_count": 11,
     "metadata": {},
     "output_type": "execute_result"
    }
   ],
   "source": [
    "#Finding the index position of snowball in the list\n",
    "games.index('snowball') "
   ]
  },
  {
   "cell_type": "code",
   "execution_count": 12,
   "metadata": {},
   "outputs": [
    {
     "data": {
      "text/plain": [
       "10"
      ]
     },
     "execution_count": 12,
     "metadata": {},
     "output_type": "execute_result"
    }
   ],
   "source": [
    "#Finding the index position of softball in the list\n",
    "games.index('softball')"
   ]
  },
  {
   "cell_type": "markdown",
   "metadata": {},
   "source": [
    "**Append**"
   ]
  },
  {
   "cell_type": "code",
   "execution_count": 13,
   "metadata": {},
   "outputs": [
    {
     "ename": "TypeError",
     "evalue": "append() takes exactly one argument (3 given)",
     "output_type": "error",
     "traceback": [
      "\u001b[1;31m---------------------------------------------------------------------------\u001b[0m",
      "\u001b[1;31mTypeError\u001b[0m                                 Traceback (most recent call last)",
      "\u001b[1;32m<ipython-input-13-e6f396d4ff01>\u001b[0m in \u001b[0;36m<module>\u001b[1;34m\u001b[0m\n\u001b[0;32m      1\u001b[0m \u001b[1;31m# The append function adds an element to a list\u001b[0m\u001b[1;33m\u001b[0m\u001b[1;33m\u001b[0m\u001b[1;33m\u001b[0m\u001b[0m\n\u001b[1;32m----> 2\u001b[1;33m \u001b[0mgames\u001b[0m\u001b[1;33m.\u001b[0m\u001b[0mappend\u001b[0m\u001b[1;33m(\u001b[0m\u001b[1;34m\"soccer\"\u001b[0m\u001b[1;33m,\u001b[0m \u001b[1;34m'hunting'\u001b[0m\u001b[1;33m,\u001b[0m \u001b[1;34m'hiking'\u001b[0m\u001b[1;33m)\u001b[0m\u001b[1;33m\u001b[0m\u001b[1;33m\u001b[0m\u001b[0m\n\u001b[0m\u001b[0;32m      3\u001b[0m \u001b[0mgames\u001b[0m\u001b[1;33m\u001b[0m\u001b[1;33m\u001b[0m\u001b[0m\n",
      "\u001b[1;31mTypeError\u001b[0m: append() takes exactly one argument (3 given)"
     ]
    }
   ],
   "source": [
    "# The append function adds an element to a list\n",
    "games.append(\"soccer\", 'hunting', 'hiking')\n",
    "games"
   ]
  },
  {
   "cell_type": "markdown",
   "metadata": {},
   "source": [
    "**Comment:** As you can see above, I obtained an error.<br> append() takes only one argument."
   ]
  },
  {
   "cell_type": "code",
   "execution_count": 14,
   "metadata": {
    "run_control": {
     "marked": true
    }
   },
   "outputs": [
    {
     "name": "stdout",
     "output_type": "stream",
     "text": [
      "['cricket', 'beachball', 'sandball', 'football', 'volleyball', 'snowball', 'basketball', 'hopping', 'diamond', 'silver', 'softball', 'track and field', 'curl', 'ping', 'hockey', 'soccer']\n"
     ]
    }
   ],
   "source": [
    "# The append function adds an element to a list\n",
    "games.append(\"soccer\")\n",
    "print(games)"
   ]
  },
  {
   "cell_type": "code",
   "execution_count": 15,
   "metadata": {},
   "outputs": [
    {
     "data": {
      "text/plain": [
       "['cricket',\n",
       " 'beachball',\n",
       " 'sandball',\n",
       " 'football',\n",
       " 'volleyball',\n",
       " 'snowball',\n",
       " 'basketball',\n",
       " 'hopping',\n",
       " 'diamond',\n",
       " 'silver',\n",
       " 'softball',\n",
       " 'track and field',\n",
       " 'curl',\n",
       " 'ping',\n",
       " 'hockey',\n",
       " 'soccer']"
      ]
     },
     "execution_count": 15,
     "metadata": {},
     "output_type": "execute_result"
    }
   ],
   "source": [
    "#Gets all items in the list\n",
    "games[:]"
   ]
  },
  {
   "cell_type": "code",
   "execution_count": 16,
   "metadata": {},
   "outputs": [
    {
     "data": {
      "text/plain": [
       "'soccer'"
      ]
     },
     "execution_count": 16,
     "metadata": {},
     "output_type": "execute_result"
    }
   ],
   "source": [
    "#Takes out the last item in the list\n",
    "games.pop()"
   ]
  },
  {
   "cell_type": "code",
   "execution_count": 17,
   "metadata": {},
   "outputs": [
    {
     "data": {
      "text/plain": [
       "'football'"
      ]
     },
     "execution_count": 17,
     "metadata": {},
     "output_type": "execute_result"
    }
   ],
   "source": [
    "# pop can also be used to pick an item from a list \n",
    "games.pop(3) #this prints the 4th item in the list"
   ]
  },
  {
   "cell_type": "code",
   "execution_count": 18,
   "metadata": {},
   "outputs": [
    {
     "data": {
      "text/plain": [
       "'silver'"
      ]
     },
     "execution_count": 18,
     "metadata": {},
     "output_type": "execute_result"
    }
   ],
   "source": [
    "# pop can also be used to pick an item from a list \n",
    "games.pop(8) #this prints the 9th item in the list"
   ]
  },
  {
   "cell_type": "markdown",
   "metadata": {},
   "source": [
    "**Count**"
   ]
  },
  {
   "cell_type": "code",
   "execution_count": 20,
   "metadata": {},
   "outputs": [
    {
     "data": {
      "text/plain": [
       "1"
      ]
     },
     "execution_count": 20,
     "metadata": {},
     "output_type": "execute_result"
    }
   ],
   "source": [
    "#Counting the number of times an item appears in a list\n",
    "games.count(\"hockey\")"
   ]
  },
  {
   "cell_type": "markdown",
   "metadata": {},
   "source": [
    "**Insert**"
   ]
  },
  {
   "cell_type": "code",
   "execution_count": 21,
   "metadata": {},
   "outputs": [
    {
     "data": {
      "text/plain": [
       "['cricket',\n",
       " 'beachball',\n",
       " 'sandball',\n",
       " 'volleyball',\n",
       " 'sky diving',\n",
       " 'snowball',\n",
       " 'basketball',\n",
       " 'hopping',\n",
       " 'diamond',\n",
       " 'softball',\n",
       " 'track and field',\n",
       " 'curl',\n",
       " 'ping',\n",
       " 'hockey']"
      ]
     },
     "execution_count": 21,
     "metadata": {},
     "output_type": "execute_result"
    }
   ],
   "source": [
    "# Inserts me at index position 4, hence it becomes the 5th item\n",
    "games.insert(4, \"sky diving\")\n",
    "games"
   ]
  },
  {
   "cell_type": "code",
   "execution_count": 23,
   "metadata": {},
   "outputs": [
    {
     "name": "stdout",
     "output_type": "stream",
     "text": [
      "['banana', ['mango', 'orange'], 'apple']\n"
     ]
    }
   ],
   "source": [
    "#Inserting  a list within a list at index position one\n",
    "fruit1=[\"banana\", \"apple\"]\n",
    "\n",
    "fruit2=[\"mango\", \"orange\"]\n",
    "\n",
    "fruit1.insert(1, fruit2)\n",
    "print(fruit1)"
   ]
  },
  {
   "cell_type": "markdown",
   "metadata": {},
   "source": [
    "**Extend**"
   ]
  },
  {
   "cell_type": "code",
   "execution_count": 24,
   "metadata": {},
   "outputs": [
    {
     "name": "stdout",
     "output_type": "stream",
     "text": [
      "['banana', 'apple', 'mango', 'orange']\n"
     ]
    }
   ],
   "source": [
    "#The extend method adds individual item from fruit2 to fruit 1\n",
    "fruit1=[\"banana\", \"apple\"]\n",
    "fruit2=[\"mango\", \"orange\"]\n",
    "fruit1.extend(fruit2)\n",
    "print(fruit1)"
   ]
  },
  {
   "cell_type": "code",
   "execution_count": 25,
   "metadata": {
    "run_control": {
     "marked": true
    }
   },
   "outputs": [
    {
     "name": "stdout",
     "output_type": "stream",
     "text": [
      "['d', 'c', 'b', 'a']\n"
     ]
    }
   ],
   "source": [
    "#This reverse the arrangement\n",
    "alpha = [\"a\", \"b\", \"c\", \"d\"]\n",
    "alpha.reverse()\n",
    "print(alpha)"
   ]
  },
  {
   "cell_type": "code",
   "execution_count": 26,
   "metadata": {},
   "outputs": [
    {
     "name": "stdout",
     "output_type": "stream",
     "text": [
      "['a', 'b', 'c', 'd']\n"
     ]
    }
   ],
   "source": [
    "#This sorts the items in aphabetical order\n",
    "alpha = [\"b\", \"c\", \"d\", \"a\"]\n",
    "alpha.sort()\n",
    "print(alpha)"
   ]
  },
  {
   "cell_type": "code",
   "execution_count": 27,
   "metadata": {},
   "outputs": [
    {
     "name": "stdout",
     "output_type": "stream",
     "text": [
      "['a', 'b', 'c', 'd']\n"
     ]
    }
   ],
   "source": [
    "#This sorts the items without aletering them\n",
    "alpha = [\"b\", \"c\", \"d\", \"a\"]\n",
    "sorted_alpha = sorted(alpha)\n",
    "print(sorted_alpha)"
   ]
  },
  {
   "cell_type": "code",
   "execution_count": 28,
   "metadata": {},
   "outputs": [
    {
     "name": "stdout",
     "output_type": "stream",
     "text": [
      "[1, 2, 3, 4, 5]\n"
     ]
    }
   ],
   "source": [
    "#This sorts the numbers in ascending order\n",
    "alpha = [4, 2, 3, 1, 5]\n",
    "alpha.sort()\n",
    "print(alpha)"
   ]
  },
  {
   "cell_type": "code",
   "execution_count": 29,
   "metadata": {
    "run_control": {
     "marked": false
    }
   },
   "outputs": [
    {
     "name": "stdout",
     "output_type": "stream",
     "text": [
      "[5, 4, 3, 2, 1]\n"
     ]
    }
   ],
   "source": [
    "#This sorts the numbers in descending order\n",
    "alpha = [4, 2, 3, 1, 5]\n",
    "alpha.sort(reverse = True)\n",
    "print(alpha)"
   ]
  },
  {
   "cell_type": "markdown",
   "metadata": {},
   "source": [
    "# .Create a new list of the 6th through 13th <br>elements of my_list and assign it <br>to the variable output (eight items in all)."
   ]
  },
  {
   "cell_type": "raw",
   "metadata": {},
   "source": [
    "6th item = shine (the 6th item is the 5th index)\n",
    "\n",
    "13th Item = Gold (the 13th item is the -18th index)"
   ]
  },
  {
   "cell_type": "code",
   "execution_count": 1,
   "metadata": {},
   "outputs": [
    {
     "name": "stdout",
     "output_type": "stream",
     "text": [
      "['shine', 'marsh', 'winter', 'donkey', 'rain', ['Rio', 'Beijing', 'London'], [1, 2, 3], 'Gold']\n"
     ]
    }
   ],
   "source": [
    "my_list = [ \"swimming\", 2, \"water bottle\", 44, \"lollipop\",\"shine\", \n",
    "           \"marsh\", \"winter\", \"donkey\", \"rain\", [\"Rio\", \"Beijing\", \"London\"],[1, 2, 3], \n",
    "           \"Gold\", \"bronze\", \"silver\", \"mathematician\", \"scientist\",\"actor\", \"actress\", \n",
    "           \"win\",\"cell phone\", \"leg\", \"running\", \"horse\", \"socket\", \"plug\",\n",
    "           [\"Phelps\", \"le Clos\", \"Lochte\"], \"drnk\", 22, \"happyfeet\", \"penguins\"]\n",
    "\n",
    "output = my_list[5:-18]\n",
    "print(output)"
   ]
  },
  {
   "cell_type": "markdown",
   "metadata": {},
   "source": [
    "# .Write code to determine how many t's <br>are in the following sentences."
   ]
  },
  {
   "cell_type": "code",
   "execution_count": null,
   "metadata": {},
   "outputs": [],
   "source": [
    "phrases= [\"My, what a lovely day today is!\", \n",
    "         \"Have you mastered cooking yet? A tasty treat could be in your future.\",\n",
    "         \"Have you ever seen the leaves change color?\"]\n",
    "for statement in phrases:\n",
    "    print(statement.count('t'))\n"
   ]
  },
  {
   "cell_type": "markdown",
   "metadata": {
    "heading_collapsed": true
   },
   "source": [
    "#  .Write a program that will print out the length <br>of each item in the list as well as <br>the first and last characters of the item."
   ]
  },
  {
   "cell_type": "code",
   "execution_count": null,
   "metadata": {
    "hidden": true
   },
   "outputs": [],
   "source": [
    "weather = ['sunny', 'cloudy', 'partially sunny', 'rainy', 'storming', 'windy', 'foggy', 'snowy', 'hailing']\n",
    "\n",
    "for condition in weather: \n",
    "    print(\"The word is\", len(condition), \"characters\")\n",
    "    first_char = condition[0]\n",
    "    last_char = condition[-1]\n",
    "    \n",
    "    print(\"The first character is: \" + first_char)\n",
    "    print(\"The last character is:\" + last_char)"
   ]
  },
  {
   "cell_type": "markdown",
   "metadata": {
    "heading_collapsed": true
   },
   "source": [
    "# .From thislist, write code to print out the following:\n"
   ]
  },
  {
   "cell_type": "raw",
   "metadata": {
    "hidden": true
   },
   "source": [
    "a.\t['cherry', 'kenkey', 'mango']\n",
    "b.\t['mango', 'silver', 'gold', 'iron', 'diamond']\n",
    "c.\t['kenkey', 'mango', 'silver']"
   ]
  },
  {
   "cell_type": "code",
   "execution_count": null,
   "metadata": {
    "hidden": true
   },
   "outputs": [],
   "source": [
    "thislist = [\"apple\", \"banana\", \"cherry\", \"kenkey\", \"mango\", \"silver\", \"gold\", \"iron\", \"diamond\", \"berries\"]\n",
    "print(thislist[2:5])"
   ]
  },
  {
   "cell_type": "code",
   "execution_count": null,
   "metadata": {
    "hidden": true
   },
   "outputs": [],
   "source": [
    "thislist = [\"apple\", \"banana\", \"cherry\", \"kenkey\", \"mango\", \"silver\", \"gold\", \"iron\", \"diamond\", \"berries\"]\n",
    "print(thislist[4:-1])"
   ]
  },
  {
   "cell_type": "code",
   "execution_count": null,
   "metadata": {
    "hidden": true
   },
   "outputs": [],
   "source": [
    "thislist = [\"apple\", \"banana\", \"cherry\", \"kenkey\", \"mango\", \"silver\", \"gold\", \"iron\", \"diamond\", \"berries\"]\n",
    "print(thislist[3:-4])"
   ]
  }
 ],
 "metadata": {
  "kernelspec": {
   "display_name": "Python 3",
   "language": "python",
   "name": "python3"
  },
  "language_info": {
   "codemirror_mode": {
    "name": "ipython",
    "version": 3
   },
   "file_extension": ".py",
   "mimetype": "text/x-python",
   "name": "python",
   "nbconvert_exporter": "python",
   "pygments_lexer": "ipython3",
   "version": "3.8.5"
  },
  "toc": {
   "base_numbering": 1,
   "nav_menu": {},
   "number_sections": true,
   "sideBar": true,
   "skip_h1_title": false,
   "title_cell": "Table of Contents",
   "title_sidebar": "Contents",
   "toc_cell": false,
   "toc_position": {},
   "toc_section_display": true,
   "toc_window_display": false
  },
  "varInspector": {
   "cols": {
    "lenName": 16,
    "lenType": 16,
    "lenVar": 40
   },
   "kernels_config": {
    "python": {
     "delete_cmd_postfix": "",
     "delete_cmd_prefix": "del ",
     "library": "var_list.py",
     "varRefreshCmd": "print(var_dic_list())"
    },
    "r": {
     "delete_cmd_postfix": ") ",
     "delete_cmd_prefix": "rm(",
     "library": "var_list.r",
     "varRefreshCmd": "cat(var_dic_list()) "
    }
   },
   "types_to_exclude": [
    "module",
    "function",
    "builtin_function_or_method",
    "instance",
    "_Feature"
   ],
   "window_display": false
  }
 },
 "nbformat": 4,
 "nbformat_minor": 4
}
